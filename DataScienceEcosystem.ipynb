{
 "cells": [
  {
   "cell_type": "markdown",
   "id": "25015c68-3cff-4eb9-b30b-3143ce4f0481",
   "metadata": {},
   "source": [
    "# Data Science Tools and Ecosystem #"
   ]
  },
  {
   "cell_type": "markdown",
   "id": "3c1061d8-e0c0-4ba1-b144-618f8dc4583e",
   "metadata": {},
   "source": [
    "In this notebook, Data Science Tools and Ecosystem are summarized"
   ]
  },
  {
   "cell_type": "markdown",
   "id": "1fc66e51-7398-4327-8f9c-67d06a1681fb",
   "metadata": {},
   "source": [
    "Some of the popular languages that Data Scientists use are:\n",
    "1. Python\n",
    "2. Julia\n",
    "3. R\n",
    "4. java"
   ]
  },
  {
   "cell_type": "markdown",
   "id": "562d8297-8058-46a5-97a6-4be47369ab34",
   "metadata": {},
   "source": [
    "Some of the commonly used libraries used by Data Scientists include:\n",
    "1. Numpy\n",
    "2. Pandas\n",
    "3. Seaborn\n",
    "4. Scikit Learn"
   ]
  },
  {
   "cell_type": "markdown",
   "id": "0900b727-dbc0-443f-b14f-30dedba26e78",
   "metadata": {},
   "source": [
    "| Data Science Tools |\n",
    "| -------------| \n",
    "| Jupyter Notebooks |\n",
    "| R Studio | \n",
    "| SQL | "
   ]
  },
  {
   "cell_type": "markdown",
   "id": "5750f89b-5e72-4e51-804a-61c73e60c566",
   "metadata": {},
   "source": []
  },
  {
   "cell_type": "markdown",
   "id": "15d34ea7-d50e-4ae6-b0cf-9d959b78e4ff",
   "metadata": {},
   "source": [
    "### Below are a few examples of evaluating arithmetic expressions in Python ###"
   ]
  },
  {
   "cell_type": "code",
   "execution_count": 32,
   "id": "2c71c2cb-8d23-4107-aa9b-491f00a3cd04",
   "metadata": {},
   "outputs": [
    {
     "data": {
      "text/plain": [
       "17"
      ]
     },
     "execution_count": 32,
     "metadata": {},
     "output_type": "execute_result"
    }
   ],
   "source": [
    "(3*4) + 5\n",
    "# This a simple arithmetic expression to mutiply then add integers"
   ]
  },
  {
   "cell_type": "code",
   "execution_count": 34,
   "id": "f8045cd9-6623-480b-a18e-81b4ec84ae1c",
   "metadata": {},
   "outputs": [
    {
     "data": {
      "text/plain": [
       "3.3333333333333335"
      ]
     },
     "execution_count": 34,
     "metadata": {},
     "output_type": "execute_result"
    }
   ],
   "source": [
    "# This will convert 200 minutes to hours by diving by 60\n",
    "200 / 60"
   ]
  },
  {
   "cell_type": "markdown",
   "id": "d0791672-e11e-4846-badf-f86763c48aff",
   "metadata": {},
   "source": [
    "Objectives :\n",
    "* List popular languages for Data Science\n",
    "* List popular libraries for Data Science\n",
    "* List popular tools for Data Science"
   ]
  },
  {
   "cell_type": "markdown",
   "id": "c0c9195b-be44-43aa-8ac6-98b7a6aa40f9",
   "metadata": {},
   "source": [
    "## Author ##\n",
    "Piyush Shah"
   ]
  },
  {
   "cell_type": "code",
   "execution_count": null,
   "id": "14d005fc-7dd7-43c7-8bcf-8998415b2bb5",
   "metadata": {},
   "outputs": [],
   "source": []
  }
 ],
 "metadata": {
  "kernelspec": {
   "display_name": "Python 3 (ipykernel)",
   "language": "python",
   "name": "python3"
  },
  "language_info": {
   "codemirror_mode": {
    "name": "ipython",
    "version": 3
   },
   "file_extension": ".py",
   "mimetype": "text/x-python",
   "name": "python",
   "nbconvert_exporter": "python",
   "pygments_lexer": "ipython3",
   "version": "3.12.4"
  }
 },
 "nbformat": 4,
 "nbformat_minor": 5
}
